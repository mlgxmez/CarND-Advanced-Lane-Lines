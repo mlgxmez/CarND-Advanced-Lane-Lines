{
 "cells": [
  {
   "cell_type": "markdown",
   "metadata": {},
   "source": [
    "The following notebook provides the image processing pipeline to obtain a valid region of the lane from an image, in order to be applied to a video."
   ]
  },
  {
   "cell_type": "code",
   "execution_count": 1,
   "metadata": {
    "collapsed": true
   },
   "outputs": [],
   "source": [
    "from moviepy.editor import VideoFileClip\n",
    "from IPython.display import HTML\n",
    "import pickle\n",
    "import numpy as np\n",
    "import cv2\n",
    "import matplotlib.pyplot as plt\n",
    "import matplotlib.image as mpimg\n",
    "%matplotlib inline"
   ]
  },
  {
   "cell_type": "markdown",
   "metadata": {},
   "source": [
    "## Helper functions and classes"
   ]
  },
  {
   "cell_type": "code",
   "execution_count": 2,
   "metadata": {
    "collapsed": true
   },
   "outputs": [],
   "source": [
    "# Define a class to receive the characteristics of each line detection\n",
    "class Line():\n",
    "    def __init__(self):\n",
    "        # x values of the last n fits of the line\n",
    "        self.recent_xfitted = [] \n",
    "        #average x values of the fitted line over the last n iterations\n",
    "        self.bestx = None     \n",
    "        #polynomial coefficients for the previous fit\n",
    "        self.previous_fit = np.array([0,0,0], dtype='float') \n",
    "        #polynomial coefficients for the most recent fit\n",
    "        self.current_fit = np.array([0,0,0], dtype='float') \n",
    "        #radius of curvature of the line in some units\n",
    "        self.radius_of_curvature = None \n",
    "        #x values for detected line pixels\n",
    "        self.allx = None  \n",
    "        #y values for detected line pixels\n",
    "        self.ally = None"
   ]
  },
  {
   "cell_type": "code",
   "execution_count": 3,
   "metadata": {
    "collapsed": true
   },
   "outputs": [],
   "source": [
    "def hsv_thresholding(warped):\n",
    "    # Detect yellow line\n",
    "    hsv = cv2.cvtColor(warped, cv2.COLOR_RGB2HSV)\n",
    "    lower_yellow = np.array([20,60,60])\n",
    "    upper_yellow = np.array([38,174, 250])\n",
    "    mask_yellow = cv2.inRange(hsv, lower_yellow, upper_yellow)\n",
    "    # Detect white line\n",
    "    lower_white = np.array([202,202,202])\n",
    "    upper_white = np.array([255,255,255])\n",
    "    mask_white = cv2.inRange(warped, lower_white, upper_white)\n",
    "    return mask_yellow + mask_white"
   ]
  },
  {
   "cell_type": "code",
   "execution_count": 4,
   "metadata": {
    "collapsed": true
   },
   "outputs": [],
   "source": [
    "def img_fit_lane(binary_warped, left_line, right_line, nwindows = 12):\n",
    "    # Check a first lane fit has been achieved\n",
    "    if (left_line.bestx is None) & (right_line.bestx is None):\n",
    "        # Take a histogram of the bottom half of the image\n",
    "        histogram = np.sum(binary_warped[binary_warped.shape[0]//2:,:], axis=0)\n",
    "        # Create an output image to draw on and  visualize the result\n",
    "        out_img = np.dstack((binary_warped, binary_warped, binary_warped))*255\n",
    "        # Find the peak of the left and right halves of the histogram\n",
    "        # These will be the starting point for the left and right lines\n",
    "        midpoint = np.int(histogram.shape[0]/2)\n",
    "        leftx_base = np.argmax(histogram[:midpoint])\n",
    "        rightx_base = np.argmax(histogram[midpoint:]) + midpoint\n",
    "        \n",
    "        # Set height of windows\n",
    "        window_height = np.int(binary_warped.shape[0]/nwindows)\n",
    "        # Identify the x and y positions of all nonzero pixels in the image\n",
    "        nonzero = binary_warped.nonzero()\n",
    "        nonzeroy = np.array(nonzero[0])\n",
    "        nonzerox = np.array(nonzero[1])\n",
    "        # Current positions to be updated for each window\n",
    "        leftx_current = leftx_base\n",
    "        rightx_current = rightx_base\n",
    "        # Set the width of the windows +/- margin\n",
    "        margin = 100\n",
    "        # Set minimum number of pixels found to recenter window\n",
    "        minpix = 50\n",
    "        # Create empty lists to receive left and right lane pixel indices\n",
    "        left_lane_inds = []\n",
    "        right_lane_inds = []\n",
    "        \n",
    "        # Step through the windows one by one\n",
    "        for window in range(nwindows):\n",
    "            # Identify window boundaries in x and y (and right and left)\n",
    "            win_y_low = binary_warped.shape[0] - (window+1)*window_height\n",
    "            win_y_high = binary_warped.shape[0] - window*window_height\n",
    "            win_xleft_low = leftx_current - margin\n",
    "            win_xleft_high = leftx_current + margin\n",
    "            win_xright_low = rightx_current - margin\n",
    "            win_xright_high = rightx_current + margin\n",
    "            # Draw the windows on the visualization image\n",
    "            cv2.rectangle(out_img,(win_xleft_low,win_y_low),(win_xleft_high,win_y_high),(0,255,0), 2) \n",
    "            cv2.rectangle(out_img,(win_xright_low,win_y_low),(win_xright_high,win_y_high),(0,255,0), 2) \n",
    "            # Identify the nonzero pixels in x and y within the window\n",
    "            good_left_inds = ((nonzeroy >= win_y_low) & (nonzeroy < win_y_high) & \n",
    "            (nonzerox >= win_xleft_low) &  (nonzerox < win_xleft_high)).nonzero()[0]\n",
    "            good_right_inds = ((nonzeroy >= win_y_low) & (nonzeroy < win_y_high) & \n",
    "            (nonzerox >= win_xright_low) &  (nonzerox < win_xright_high)).nonzero()[0]\n",
    "            # Append these indices to the lists\n",
    "            left_lane_inds.append(good_left_inds)\n",
    "            right_lane_inds.append(good_right_inds)\n",
    "            # If you found > minpix pixels, recenter next window on their mean position\n",
    "            if len(good_left_inds) > minpix:\n",
    "                leftx_current = np.int(np.mean(nonzerox[good_left_inds]))\n",
    "            if len(good_right_inds) > minpix:        \n",
    "                rightx_current = np.int(np.mean(nonzerox[good_right_inds]))\n",
    "                \n",
    "        # Concatenate the arrays of indices\n",
    "        left_lane_inds = np.concatenate(left_lane_inds)\n",
    "        right_lane_inds = np.concatenate(right_lane_inds)\n",
    "\n",
    "        # Extract left and right line pixel positions and fit a polynomial\n",
    "        left_line.allx = nonzerox[left_lane_inds]\n",
    "        left_line.ally = nonzeroy[left_lane_inds]\n",
    "        left_line.current_fit = np.polyfit(left_line.ally, left_line.allx, 2)\n",
    "        \n",
    "        right_line.allx = nonzerox[right_lane_inds]\n",
    "        right_line.ally = nonzeroy[right_lane_inds]\n",
    "        right_line.current_fit = np.polyfit(right_line.ally, right_line.allx, 2)\n",
    "    else:\n",
    "        # Assume you now have a new warped binary image \n",
    "        # from the next frame of video (also called \"binary_warped\")\n",
    "        # It's now much easier to find line pixels!\n",
    "        nonzero = binary_warped.nonzero()\n",
    "        nonzeroy = np.array(nonzero[0])\n",
    "        nonzerox = np.array(nonzero[1])\n",
    "        margin = 100\n",
    "        left_lane_inds = ((nonzerox > (left_line.current_fit[0]*(nonzeroy**2) + left_line.current_fit[1]*nonzeroy + \n",
    "        left_line.current_fit[2] - margin)) & (nonzerox < (left_line.current_fit[0]*(nonzeroy**2) + \n",
    "        left_line.current_fit[1]*nonzeroy + left_line.current_fit[2] + margin))) \n",
    "\n",
    "        right_lane_inds = ((nonzerox > (right_line.current_fit[0]*(nonzeroy**2) + right_line.current_fit[1]*nonzeroy + \n",
    "        right_line.current_fit[2] - margin)) & (nonzerox < (right_line.current_fit[0]*(nonzeroy**2) + \n",
    "        right_line.current_fit[1]*nonzeroy + right_line.current_fit[2] + margin)))  \n",
    "\n",
    "        # Again, extract left and right line pixel positions and fit a second order polynomial\n",
    "        left_line.allx = nonzerox[left_lane_inds]\n",
    "        left_line.ally = nonzeroy[left_lane_inds] \n",
    "        left_line.current_fit = np.polyfit(left_line.ally, left_line.allx, 2)\n",
    "        \n",
    "        right_line.allx = nonzerox[right_lane_inds]\n",
    "        right_line.ally = nonzeroy[right_lane_inds]\n",
    "        right_line.current_fit = np.polyfit(right_line.ally, right_line.allx, 2)"
   ]
  },
  {
   "cell_type": "code",
   "execution_count": 5,
   "metadata": {
    "collapsed": true
   },
   "outputs": [],
   "source": [
    "def xval_fitted(image, line_instance, thr=40, nframes = 5):\n",
    "    # Get pixels of the x coordinate after fitting a polynomial\n",
    "    ploty = np.linspace(0, image.shape[0]-1, image.shape[0])\n",
    "    line_fitx = line_instance.current_fit[0]*ploty**2 + line_instance.current_fit[1]*ploty + line_instance.current_fit[2]\n",
    "    if np.sum(line_instance.previous_fit) == 0:\n",
    "        line_instance.recent_xfitted.append(line_fitx)\n",
    "        line_instance.bestx = line_fitx\n",
    "    else:\n",
    "        # Compute the differences between the coefficients of the current ad previous frame\n",
    "        diff_c0 = np.abs(line_instance.current_fit[0] - line_instance.previous_fit[0])\n",
    "        diff_c1 = np.abs(line_instance.current_fit[1] - line_instance.previous_fit[1])\n",
    "        diff_c2 = np.abs(line_instance.current_fit[2] - line_instance.previous_fit[2])\n",
    "        sum_ci = diff_c0 + diff_c1 + diff_c2\n",
    "        if sum_ci >= thr:\n",
    "            # If that difference is big the use and average of coefficients of the last nframes\n",
    "            bestx_last_frames = np.array((line_instance.recent_xfitted[-nframes:]))\n",
    "            line_instance.bestx = np.mean(bestx_last_frames, axis = 0)\n",
    "        else:\n",
    "            # Otherwise use the current fit as the best fit\n",
    "            line_instance.bestx = line_fitx\n",
    "        line_instance.recent_xfitted.append(line_fitx)\n",
    "    line_instance.previous_fit[0] = line_instance.current_fit[0]\n",
    "    line_instance.previous_fit[1] = line_instance.current_fit[1]\n",
    "    line_instance.previous_fit[2] = line_instance.current_fit[2]"
   ]
  },
  {
   "cell_type": "code",
   "execution_count": 6,
   "metadata": {
    "collapsed": true
   },
   "outputs": [],
   "source": [
    "def get_rad_curvature(image, line_instance):\n",
    "    # Get the radius of curvature of the line in 'm'\n",
    "    ploty = np.linspace(0, image.shape[0]-1, image.shape[0])\n",
    "    y_eval = np.max(ploty)\n",
    "    line_curverad = ((1 + (2*line_instance.current_fit[0]*y_eval + line_instance.current_fit[1])**2)**1.5) / np.absolute(2*line_instance.current_fit[0])\n",
    "    \n",
    "    # Define conversions in x and y from pixels space to meters\n",
    "    ym_per_pix = 30/720 # meters per pixel in y dimension\n",
    "    xm_per_pix = 3.7/700 # meters per pixel in x dimension\n",
    "    \n",
    "    # Fit new polynomials to x,y in world space\n",
    "    line_fit_cr = np.polyfit(ploty*ym_per_pix, line_instance.bestx*xm_per_pix, 2)\n",
    "    # Get the new radii of curvature\n",
    "    line_instance.radius_of_curvature = ((1 + (2*line_fit_cr[0]*y_eval*ym_per_pix + line_fit_cr[1])**2)**1.5) / np.absolute(2*line_fit_cr[0])"
   ]
  },
  {
   "cell_type": "code",
   "execution_count": 7,
   "metadata": {
    "collapsed": true
   },
   "outputs": [],
   "source": [
    "def paint_lane(original_img, binary_warped, Minv, left_line, right_line):\n",
    "    # Paint the lane region detected over the frames of the video\n",
    "    ploty = np.linspace(0, original_img.shape[0]-1, original_img.shape[0])\n",
    "    warp_zero = np.zeros_like(binary_warped).astype(np.uint8)\n",
    "    color_warp = np.dstack((warp_zero, warp_zero, warp_zero))\n",
    "    \n",
    "    # Recast the x and y points into usable format for cv2.fillPoly()\n",
    "    pts_left = np.array([np.transpose(np.vstack([left_line.bestx, ploty]))])\n",
    "    pts_right = np.array([np.flipud(np.transpose(np.vstack([right_line.bestx, ploty])))])\n",
    "    pts = np.hstack((pts_left, pts_right))\n",
    "    \n",
    "    # Draw the lane onto the warped blank image\n",
    "    cv2.fillPoly(color_warp, np.int_([pts]), (0,255, 0))\n",
    "    # Warp the blank back to original image space using inverse perspective matrix (Minv)\n",
    "    newwarp = cv2.warpPerspective(color_warp, Minv, (original_img.shape[1], original_img.shape[0]))\n",
    "    \n",
    "    # Get the vehicle position\n",
    "    xm_per_pix = 3.7/700 # meters per pixel in x dimension\n",
    "    pos_veh = (left_line.bestx[-1] + right_line.bestx[-1])/2.0 - original_img.shape[1]/2.0\n",
    "    pos_veh *= xm_per_pix\n",
    "    \n",
    "    # Combine the result with the original image\n",
    "    avg_curverad = (left_line.radius_of_curvature + right_line.radius_of_curvature)/2\n",
    "    output_img = cv2.addWeighted(original_img, 1, newwarp, 0.3, 0)\n",
    "    result = cv2.putText(output_img,'Radius of Curvature = %.3f m' %(avg_curverad),(40,100), fontFace=0, fontScale=2, color=(255,255,255), thickness=3)\n",
    "    result = cv2.putText(result,'The car is %.2f m from the center of the road' %(pos_veh),(40,150), fontFace=0, fontScale=1, color=(255,255,255), thickness=3)\n",
    "    return(result)"
   ]
  },
  {
   "cell_type": "markdown",
   "metadata": {},
   "source": [
    "## Loading parameters"
   ]
  },
  {
   "cell_type": "markdown",
   "metadata": {},
   "source": [
    "The parameters of the camera are loaded to correct image distortion. These coefficients are obtained and saved on the other Python Notebook."
   ]
  },
  {
   "cell_type": "code",
   "execution_count": 8,
   "metadata": {
    "collapsed": true
   },
   "outputs": [],
   "source": [
    "with open(\"mtx.pickle\", \"rb\") as f:\n",
    "    mtx = pickle.load(f)\n",
    "\n",
    "with open(\"dist.pickle\",\"rb\") as f:\n",
    "    dist = pickle.load(f)"
   ]
  },
  {
   "cell_type": "markdown",
   "metadata": {},
   "source": [
    "The mapping between source and destination points to get the top-down view of the road lane. This tranformation is static over all the frames of the video."
   ]
  },
  {
   "cell_type": "code",
   "execution_count": 9,
   "metadata": {
    "collapsed": true
   },
   "outputs": [],
   "source": [
    "# Computing offline the perspective transform\n",
    "src_points = np.array([(580, 460), (205, 720), (1110, 720), (703, 460)], np.float32)\n",
    "dst_points = np.array([(320, 0),(320, 720),(960, 720), (960, 0)], np.float32)\n",
    "\n",
    "# The perspective transform\n",
    "M = cv2.getPerspectiveTransform(src_points, dst_points)\n",
    "\n",
    "# ...and the inverse perspective transform\n",
    "Minv = cv2.getPerspectiveTransform(dst_points, src_points)"
   ]
  },
  {
   "cell_type": "markdown",
   "metadata": {},
   "source": [
    "## Definition of an image pipeline"
   ]
  },
  {
   "cell_type": "code",
   "execution_count": 10,
   "metadata": {
    "collapsed": true
   },
   "outputs": [],
   "source": [
    "left_line =Line()\n",
    "right_line = Line()\n",
    "\n",
    "def pipeline(image):\n",
    "    img = image\n",
    "    # Undistort image\n",
    "    undist_img = cv2.undistort(img, mtx, dist, None, mtx)\n",
    "    \n",
    "    # Get the shape of the image\n",
    "    img_shape = (img.shape[1], img.shape[0])\n",
    "    \n",
    "    # Project the lane region onto the image plane\n",
    "    warped = cv2.warpPerspective(undist_img, M, img_shape, flags=cv2.INTER_LINEAR)\n",
    "    \n",
    "    # Color thresholding\n",
    "    binary = hsv_thresholding(warped)\n",
    "    \n",
    "    # Finding lane\n",
    "    img_fit_lane(binary, left_line, right_line)\n",
    "    \n",
    "    # Fit a polynomial to each line\n",
    "    xval_fitted(binary, left_line)\n",
    "    xval_fitted(binary, right_line)\n",
    "    \n",
    "    # Get curvature of each line\n",
    "    get_rad_curvature(binary, left_line)\n",
    "    get_rad_curvature(binary, right_line)\n",
    "    \n",
    "    # Paint lane\n",
    "    output_img = paint_lane(undist_img, binary, Minv, left_line, right_line)\n",
    "    return(output_img)"
   ]
  },
  {
   "cell_type": "markdown",
   "metadata": {},
   "source": [
    "## Video generation"
   ]
  },
  {
   "cell_type": "code",
   "execution_count": 11,
   "metadata": {
    "scrolled": true
   },
   "outputs": [
    {
     "name": "stdout",
     "output_type": "stream",
     "text": [
      "[MoviePy] >>>> Building video project_video_output.mp4\n",
      "[MoviePy] Writing video project_video_output.mp4\n"
     ]
    },
    {
     "name": "stderr",
     "output_type": "stream",
     "text": [
      "100%|█████████▉| 1260/1261 [01:45<00:00, 11.94it/s]\n"
     ]
    },
    {
     "name": "stdout",
     "output_type": "stream",
     "text": [
      "[MoviePy] Done.\n",
      "[MoviePy] >>>> Video ready: project_video_output.mp4 \n",
      "\n",
      "CPU times: user 8min 15s, sys: 1.87 s, total: 8min 17s\n",
      "Wall time: 1min 46s\n"
     ]
    }
   ],
   "source": [
    "output = 'project_video_output.mp4'\n",
    "clip = VideoFileClip(\"project_video.mp4\")\n",
    "white_clip = clip.fl_image(pipeline)\n",
    "%time white_clip.write_videofile(output, audio=False)"
   ]
  },
  {
   "cell_type": "code",
   "execution_count": 34,
   "metadata": {},
   "outputs": [
    {
     "data": {
      "text/html": [
       "\n",
       "<video width=\"960\" height=\"540\" controls>\n",
       "  <source src=\"project_video_output.mp4\">\n",
       "</video>\n"
      ],
      "text/plain": [
       "<IPython.core.display.HTML object>"
      ]
     },
     "execution_count": 34,
     "metadata": {},
     "output_type": "execute_result"
    }
   ],
   "source": [
    "HTML(\"\"\"\n",
    "<video width=\"960\" height=\"540\" controls>\n",
    "  <source src=\"{0}\">\n",
    "</video>\n",
    "\"\"\".format(output))"
   ]
  },
  {
   "cell_type": "code",
   "execution_count": null,
   "metadata": {
    "collapsed": true
   },
   "outputs": [],
   "source": []
  }
 ],
 "metadata": {
  "kernelspec": {
   "display_name": "Python [conda env:carnd-term1]",
   "language": "python",
   "name": "conda-env-carnd-term1-py"
  },
  "language_info": {
   "codemirror_mode": {
    "name": "ipython",
    "version": 3
   },
   "file_extension": ".py",
   "mimetype": "text/x-python",
   "name": "python",
   "nbconvert_exporter": "python",
   "pygments_lexer": "ipython3",
   "version": "3.5.2"
  },
  "widgets": {
   "state": {},
   "version": "1.1.2"
  }
 },
 "nbformat": 4,
 "nbformat_minor": 2
}
